{
 "cells": [
  {
   "cell_type": "raw",
   "metadata": {},
   "source": [
    "---\n",
    "title: \"Aggregating supply and demand with incomplete information and endogenous information acquisition (work in progress)\"\n",
    "author:\n",
    "    name:  \"Douglas K. G. Araujo\"\n",
    "    email: \"douglas.araujo@bis.org\"\n",
    "    affiliations:  \"Bank for International Settlements\"\n",
    "thanks: \"This work represents my opinion and not necessarily that of the BIS. An early version of the manuscript circulated as 'Information acquisition in financial markets through artificial intelligence'.\"\n",
    "abstract: \"An economy is modelled as a simultaneous aggregation of multiple bilateral interactions under incomplete information and with strategic complementarities between supply and demand preferences, allowing for arbitrary consumption function types and constraints. This view microfounds the state of the economy with how well agents aticipate one another's preferences, eg a output gap occurs when the weighted sum of all agents' over- or underestimation of each other's preferences is not neutral. Given the role of information about others' actions, the model is extended with endogenous information acquisition, enabling a flexible analysis of the role of information in the economy. This tooling is used to study the macroeconomic impact of artificial intelligence (AI) models that jointly considers its information aspect, strategic complementarities and supply chain considerations. If AIs are widely used to increase information precision across the board, the economy (is mode efficient). But if the precision of AI is unequal then (society is worse off if the largest players have access to better technology). JEL codes: (D82, G14).\"\n",
    "format:\n",
    "    pdf:\n",
    "        keep-tex: true\n",
    "        template-partials: \n",
    "            - title.tex\n",
    "        include-in-header:\n",
    "            text: |\n",
    "                \\usepackage{algpseudocode}\n",
    "                \\usepackage{algorithm}\n",
    "                \\usepackage[noblocks]{authblk}\n",
    "                \\usepackage[giveninits=false, uniquename=false]{biblatex}\n",
    "                \\usepackage{mathtools}\n",
    "                \\renewcommand*{\\Authsep}{, }\n",
    "                \\renewcommand*{\\Authand}{, }\n",
    "                \\renewcommand*{\\Authands}{, }\n",
    "                \\renewcommand\\Affilfont{\\small}\n",
    "                \\DeclareMathOperator*{\\argmin}{arg\\,min}\n",
    "        number-sections: true\n",
    "        geometry:\n",
    "            - top=30mm\n",
    "            - left=20mm\n",
    "            - heightrounded\n",
    "bibliography: \"ref.bib\"\n",
    "execute:\n",
    "    echo: false\n",
    "    warning: false\n",
    "    error: false\n",
    "    cache: true\n",
    "    freeze: auto\n",
    "---"
   ]
  },
  {
   "cell_type": "markdown",
   "metadata": {},
   "source": [
    "# Introduction"
   ]
  },
  {
   "cell_type": "markdown",
   "metadata": {},
   "source": [
    "This paper microfounds the state of the economy from individual-level demand and supply drivers, based on characteristics of each agent and on an stochastic component, and on strategic complmentarities between pairs of agents. The goal of this model is to offer a flexible alternative to macroeconomic models that is built on the multiple bilateral strategic interactions under incomplete information, and let the interaction graph and more broadly, economic activity, follow from these two basic building blocks of supply and demand drivers and strategic bilateral interactions.\n",
    "\n",
    "The model allows a natural breakdown of each of demand or supply contributions to economic activity into a portion that is due to fundamentals and another one due to strategic uncertainty. For example, part of supply of labour might be associated to fundamentals such as demographics and expected returns to education, but a part of these dynamics can also be associated to the evolution of expected (by households) demand of labour by firms; this can decrease if households think firms will automate more, eg after the advent of popular ChatGPT in late 2022. By the same token, firms' demand for labour reflects fundamentals such as existing technology but also how much they expect households to supply labour. If firms think households think firms would automate more, then firms could think households would anticipate this and (given certain returns to education) build up intellectual capital instead of going into the labour market, and then firms could thus choose to automate because they anticipate lower supply of labour. Following the celebrated result in the global games literature (@carlsson1993global, @morris2003global), reasoning on higher-order beliefs can be summarised by simpler and more effective forms of reasoning such as threshold strategies."
   ]
  },
  {
   "cell_type": "markdown",
   "metadata": {},
   "source": [
    "One application of this model is to shed light on the role of AI as a factor in economic activity. The model is flexible enough to be fit to various types of microdata (firms only, firms and employees/consumers, etc)."
   ]
  },
  {
   "cell_type": "markdown",
   "metadata": {},
   "source": [
    "## Related literature"
   ]
  },
  {
   "cell_type": "markdown",
   "metadata": {},
   "source": [
    "### Strategic complementarities and macroeconomics\n",
    "\n",
    "Earlier efforts include @diamond1982aggregate, who model a barter economy of bilateral connections where transactions take place after a costly search, and @cooper1988coordinating, who analyse strategic complementarities that result from production functions, demand functions and matching technologies in a imperfectly competitive heterogenous economy, but their model does not feature incomplete information. More recently, @Fernandez2022 model A broad review of the role of incomplete information in macroeconomic settings is provided at @angeletos2016incomplete. Separately, @galeotti2010network extend incomplete information to networks, modelling uncertainty about the identity and count of neighbours in a network. Supermodularity theory is also a flexible way to associate uncertainty about the states of the world with the concept of risk aversion (@quiggin2006supermodularity).\n",
    "\n",
    "### Endogenous information acquisition\n",
    "\n",
    "@hellwig2009knowing model the situation where firms competing endogenously acquire information to improve precision of their demand forecasting. @farboodi2020long's model distinguishes between processing information to better understand fundamentals as opposed to forecasting the demand of other investors.\n",
    "\n",
    "### Effects of information on the economy\n",
    "\n",
    "@acemoglu2024simple, in contrast, estimates AI will not have such a significant impact."
   ]
  },
  {
   "cell_type": "markdown",
   "metadata": {},
   "source": [
    "# Static setup\n",
    "\n",
    "This section describes a static version of the game to present the main building blocks and fix intuition."
   ]
  },
  {
   "cell_type": "markdown",
   "metadata": {},
   "source": [
    "## Economic agents and their interactions\n",
    "\n",
    "An economy comprises individual agents $i = 1, \\dots, N$. These agents are for now described as \"firms\", an interpretation that is relaxed in @sec-interpretation. Firms transact bilaterally with one another through the asymmetric matrix $J \\in \\{0, 1\\}^{N \\times N}$, where element $j_{ij} = 1$ means that $i$ buys some unspecified good or service from $j$ and $0$ denotes the inexistence of this relationship.\n",
    "\n",
    "The element $j_{ij}$ results from the combination of $i$'s demand for $j$'s product, $d_{ij} \\geq 0$ and $j$'s preference or preparedness for selling products to $i$, $s_{ji} \\geq 0$. Each firm spawns with a demand and a supply profile, $d_i, s_i \\in \\mathbb{B}^N$, and they always known their own profiles. Define $\\theta_{ij} = d_{ij} s_{ji}$ to be the common payoff for $i$ and $j$ if $i$ buys from $j$; if the transaction does not take place, the payoff is $0$.[^repug] Collecting the demand and supply elements in their own matrices $D$ and $S$, then $\\theta = D \\odot S^T$, with $\\odot$ representing the element-wise Hadamard multiplication. Using $N=2$ to illustrate these values,\n",
    "\n",
    "$$\n",
    "D = \n",
    "\\begin{bmatrix}\n",
    "d_{11} & d_{12} \\\\\n",
    "d_{21} & d_{22}\n",
    "\\end{bmatrix}\n",
    ",\n",
    "S = \n",
    "\\begin{bmatrix}\n",
    "s_{11} & s_{12} \\\\\n",
    "s_{21} & s_{22}\n",
    "\\end{bmatrix}\n",
    ",\n",
    "\\theta = \n",
    "\\begin{bmatrix}\n",
    "d_{11}s_{11} & d_{12}s_{21} \\\\\n",
    "d_{21}s_{12} & d_{22}s_{22}\n",
    "\\end{bmatrix}.\n",
    "$$\n",
    "\n",
    "Then, bilateral transactions take place according to a map $C : \\mathbb{R}^{N \\times N} \\to \\{0, 1\\}^{N \\times N}$ that is elementwise non-decreasing in $\\theta$, ie $C(\\theta')_{ij} \\geq C(\\theta)_{ij}$ if: \n",
    "$$\n",
    "\\theta' = \\begin{cases} \\theta_{mn}^{'} > \\theta_{mn} & m=i, n=j\\\\ \\theta_{mn} & \\text{otherwise} \\end{cases}.\n",
    "$$ \n",
    "\n",
    "This consumption function $C$ is very general, but once it is applied on the payoff matrix, it yields the bilateral transaction matrix $J = C(\\theta)$. Because $C$ is elementwise non-decreasing in $\\theta$, whenever there is any form of constraint (budget, technological or otherwise), firms will choose to demand only the bilateral transactions they rank highest, and to supply only to those clients who the firm as a supplier value the most. So it is useful regardless of the shape of $C$ to know how each firm values their demand for each bilateral transaction relative to alternatives, and the same from the supply perspective. A useful way to do this is with a softmax function over the $i$th row of $\\theta$ for the demand:\n",
    "\n",
    "$$\n",
    "\\tilde{d}_{ij} = \\frac{e^{\\theta_{ij}}}{\\sum_{k=1}^N e^{\\theta_{ik}}},\n",
    "$$ {#eq-softmaxrow}\n",
    "\n",
    "and similarly using $\\theta$'s columns for the supply interactions:\n",
    "\n",
    "$$\n",
    "\\tilde{s}_{ji} = \\frac{e^{\\theta_{ji}}}{\\sum_{k=1}^N e^{\\theta_{ki}}}.\n",
    "$$ {#eq-softmaxcol}\n",
    "\n",
    "For exposition, take $C$ to be a function that matches buyers and sellers according to a \"budget\" that limits how many matches they might attempt. Formally, each $i$ has a budget of $K_i^d \\leq N-1 \\in \\mathbb{N}$ maximum bilateral purchase transactions and an arbitrary budget of $K_i^s \\leq N-1 \\in \\mathbb{N}$ bilateral sales transactions for simplicity. This means that $i$ will choose to buy from the top $K_i^d$ highest values in row $i$ of $\\tilde{D}$, and sell to the $K_i^s$ highest values in column $i$ of $\\tilde{S}$. In other words, each agent will choose to act only on their own most advantageous purchases as valued by @eq-softmaxrow and @eq-softmaxcol respectively. Note that $i$ can prefer to interact with itself; see @sec-interpretation for comments on the interpretation of these cases.\n",
    "\n",
    "These decisions to actually demand a product or supply it are stored in vectors $a_i^d, a_i^s$ for each firm's demand and supply actions. These vectors span the space of possible strategy profiles for the demand and supply actions, respectively. Based on the previously discussed top-$K$ rule, define the matrices $A^d$ and $A^s$ to collect, respectively, the $\\{0, 1\\}$ decision of each firm $i$ to demand or to supply goods to firm $j$. When both the demand decision $a_{ij}^d$ and supply decision $a_{ij}$ are $1$, then $J_{ij}$ is also $1$; otherwise it is $0$. Expanding on the $N=2$ example above, and assuming $K_i^d=1 \\; \\forall i$, $K_i^s=2 \\; \\forall i$, with an arbitrary ordering that assumes that transaction with another firm is more valuable than with oneself:\n",
    "\n",
    "$$\n",
    "\\tilde{D} = \n",
    "\\begin{bmatrix}\n",
    "\\tilde{d}_{11} & \\tilde{d}_{12} \\\\\n",
    "\\tilde{d}_{21} & \\tilde{d}_{22}\n",
    "\\end{bmatrix}\n",
    ",\n",
    "\\tilde{S} = \n",
    "\\begin{bmatrix}\n",
    "\\tilde{s}_{11} & \\tilde{s}_{12} \\\\\n",
    "\\tilde{s}_{21} & \\tilde{s}_{22}\n",
    "\\end{bmatrix}\n",
    ",\n",
    "A^d = \n",
    "\\begin{bmatrix}\n",
    "0 & 1 \\\\\n",
    "1 & 0\n",
    "\\end{bmatrix}\n",
    ",\n",
    "A^s = \n",
    "\\begin{bmatrix}\n",
    "1 & 1 \\\\\n",
    "1 & 1\n",
    "\\end{bmatrix}\n",
    ",\n",
    "J = \n",
    "\\begin{bmatrix}\n",
    "0 & 1 \\\\\n",
    "1 & 0\n",
    "\\end{bmatrix}.\n",
    "$$\n",
    "\n",
    "The values above can also be summarised in an outcomes matrix $O$, where each element $o_{ij}$ corresponds to the outcome of each bilateral transaction between $i$ and $j$. Beyond gross payoffs $\\theta_{ij}$, which accrue to both counterparties if both engage in that transaction, to provide some more generality to the model consider also that actually positioning oneself for demanding or supplying goods or services to another firm entails non-negative costs $T^d, T^s \\geq 0$, with elements $t_{ij}^{z \\in \\{d, s\\}}$. They might represent, for example, distance betwen $i$ and $j$, investment in advertising tailored to $j$ tastes, search costs, sales efforts, etc. (As for the other building blocks, there is ample flexibility in how the costs are estimated in practice.) Thus the outcomes are:\n",
    "\n",
    "$$\n",
    "O = \n",
    "\\begin{bmatrix}\n",
    "-(a_{11}^d t_{11}^d) + (a_{11}^d d_{11} s_{11} a_{11}^s) - (a_{11}^s t_{11}^s) & -(a_{12}^d t_{12}^d) + (a_{12}^d d_{12} s_{21} a_{21}^s) - (a_{21}^s t_{21}^s)\\\\\n",
    "-(a_{21}^d t_{21}^d) + (a_{21}^d d_{21} s_{12} a_{12}^s) - (a_{21}^s t_{21}^s) & -(a_{22}^d t_{22}^d) + (a_{22}^d d_{22} s_{22} a_{22}^s) - (a_{22}^s t_{22}^s)\n",
    "\\end{bmatrix}.\n",
    "$$ {#eq-outcomes}\n",
    "\n",
    "Each element $o_{ij}$ of @eq-outcomes has four possible values. When no firm decides to demand or supply that particular transaction, the outcome is $0$. When at most one firm engages, the outcome is its demand or supply cost. And when both agents coordinate, $o_{ij}$ is defined as the combined demand and supply driver. In the current example, $O=\\big[\\begin{smallmatrix}\n",
    "-t_{11}^s & d_{12} s_{21} - t_{12}^d - t_{21}^s \\\\\n",
    "d_{21} s_{12} -t_{21}^d - t_{12}^s & - t_{22}^s\n",
    "\\end{smallmatrix}\\big]$.\n",
    "\n",
    "The outcomes of the bilateral transactions speak to the overall value added (or subtracted). But what each firm cares about is their own payoff from each transaction, which is defined as the combined value of the transaction, $\\theta_{ij}$, minus costs incurred in positioning themselves for demanding ($t_{ij}^d$) or supplying ($t_{ij}^s$) that transaction (or both demanding and supplying if $i=j$). Aggregating the payoffs at the firm level results in vector $p = (p_i)_{i=1}^N$, with:\n",
    "\n",
    "$$\n",
    "p_i = \\sum_{j=1}^N \\underbrace{a_{ij}^d (d_{ij} s_{ji} a_{ji}^s - t_{ij}^d)}_{\\text{Net payoff from $i$'s demand to match with $j$}} + \\underbrace{a_{ij}^s (a_{ji}^d d_{ji} s_{ij} - t_{ij}^s)}_{\\text{Net payoff from $i$ supplying to $j$}}.\n",
    "$$ {#eq-firmlevelpayoff}\n",
    "\n",
    "For firm 1 and firm 2 in the current example, this is:\n",
    "\n",
    "$$\n",
    "\\begin{split}\n",
    "p_1 = d_{12} s_{21} - t_{12}^d - t_{11}^s + d_{21} s_{12} - t_{12}^s, \\\\\n",
    "p_2 = d_{21} s_{12} -t_{21}^d + d_{12} s_{21} - t_{21}^s - t_{22}^s.\n",
    "\\end{split}\n",
    "$$\n",
    "\n",
    "In this static game, firms first discover $D$ and $S$ and then decide how much and from whom to demand or to supply in $A^d, A^d$. In a complete information benchmark, firms know all demand and supply drivers and the budget function and constraints of each other firm. Armed with this information, all firms can estimate $A^d$ and $A^s$ for all firms, and thus all will know the implied $P$ as well as the payoff under any deviation from $A^d$ or $A^s$. This allows firms to conclude that $(A^d(D), A^s(S))$ is the Nash equilibrium action profile. Deviating unilaterally from that is not advantageous to any particular firm because it will take demand or supply away from good transactions into transactions that are not met correspondingly by the counterparty supplying or demanding that good.\n",
    "\n",
    "This economy abstracts away from important components of \"micro-to-macro\" aggregation (eg, @baqaee2018macroeconomics, @baqaee2019jeea), such as a definition of elasticities of substitution. This is to concentrate attention on the aspects of the model that are more dependent on coordination between supply and demand. \n",
    "\n",
    "[^repug]: Cases like that of repugnant transactions (@roth2007repugnance), where either $d_{ij}$ or $s_{ji}$ are negative (or both) can be dealt with by this model but is not an essential component, so is not further discussed except to say that if a possibility exists that both demand and supply are negative, then $\\theta_{ij} = \\text{max}(0, d_{ij} s_{ji})$."
   ]
  },
  {
   "cell_type": "markdown",
   "metadata": {},
   "source": [
    "## Incomplete information\n",
    "\n",
    "The key aspect of this model is that each firm knows only the realisation of its own demand towards firm $j$'s products and its own preference for supplying goods and services to all $j$ firms. For all other cases, ie firm $j \\neq i$'s demand for $k$'s products and its supply to firm $k$ are only observed with a noisy signal.[^noise] Henceforth, variables with a hat are estimated with some (possibly non-linear) noise by an investor, each with a specific precision $\\tau_i(\\cdot)$; for example, $\\tau_1(\\hat{d}_{21})$ the precision of firm $1$'s estimate of $d_{21}$. Continuing with investor $i=1$ in the example above, the game begins with the following information profile:\n",
    "\n",
    "$$\n",
    "\\hat{D}^{(1)} = \n",
    "\\begin{bmatrix}\n",
    "d_{11} & d_{12} \\\\\n",
    "\\hat{d}_{21}^{(1)} & \\hat{d}_{22}^{(1)}\n",
    "\\end{bmatrix}\n",
    ",\n",
    "\\hat{S}^{(1)} = \n",
    "\\begin{bmatrix}\n",
    "s_{11} & s_{12} \\\\\n",
    "\\hat{s}_{21}^{(1)} & \\hat{s}_{22}^{(1)}\n",
    "\\end{bmatrix}\n",
    ",\n",
    "\\hat{\\theta}^{(1)} = \n",
    "\\begin{bmatrix}\n",
    "d_{11}s_{11} & d_{12}\\hat{s}_{21}^{(1)} \\\\\n",
    "\\hat{d}_{21}^{(1)} s_{12} & \\hat{d}_{22}^{(1)} \\hat{s}_{22}^{(1)}\n",
    "\\end{bmatrix}.\n",
    "$$\n",
    "\n",
    "The superscript in the hat variables indicates that it is firm $1$'s signal of the other firm's demand or supply. To avoid cluttered notation, this superscript is dropped when equations refer to the running $N=2$ example or when it is clear it refers to a generic firm $i$'s signal, and will only be used to remove ambiguity.\n",
    "\n",
    "Given the uncertainty about the actual demand or supply driver of other firms, firm $1$'s views on $\\tilde{D}, \\tilde{S}$ are given by @eq-tildeDS below:\n",
    "\n",
    "$$\n",
    "\\hat{\\tilde{D}} = \n",
    "\\begin{bmatrix}\n",
    "\\tilde{d}_{11} & \\tilde{d}_{12} \\\\\n",
    "\\hat{\\tilde{d}}_{21} & \\hat{\\tilde{d}}_{22}\n",
    "\\end{bmatrix}\n",
    ",\n",
    "\\hat{\\tilde{S}} = \n",
    "\\begin{bmatrix}\n",
    "\\tilde{s}_{11} & \\tilde{s}_{12} \\\\\n",
    "\\hat{\\tilde{s}}_{21} & \\hat{\\tilde{s}}_{22}\n",
    "\\end{bmatrix}.\n",
    "$$ {#eq-tildeDS}\n",
    "\n",
    "Note that this construction enables a generalisation of the incomplete information setting where even the consumption function (including any budget constraints) of the other firms are not necessarily known by $i$. The only requirement is that this function be elementwise non-decreasing in the payoff. This brings more realism to the model in the sense that in the real world, economic agents make decisions without fully known how \"deep\" their pockets are, or whether or not they have access to other sources of financing, etc. At the same time, this construction does not add considerable complexity to the model. the disadvantage is that applications where the budget constraint will be studied, say in comparative statics would require a more explicit specification of the consumption function.\n",
    "\n",
    "Firm $1$'s view on the outcomes and its own expected payoff structure reflects the information profile: the demand and supply that firm $1$ has towards other firms, $(d_{1j})_{j=1}^N$ and $(s_{1j})_{j=1}^N$, as well as $1$'s own actions, $(a_{1j}^d)_{j=1}^N$ and $(a_{1j}^s)_{j=1}^N$, are known by 1, whereas other firms' are estimated. In the $N=2$ example:\n",
    "\n",
    "$$\n",
    "O = \n",
    "\\begin{bmatrix}\n",
    "-(a_{11}^d t_{11}^d) + (a_{11}^d d_{11} s_{11} a_{11}^s) - (a_{11}^s t_{11}^s) & -(a_{12}^d t_{12}^d) + (a_{12}^d d_{12} \\hat{s}_{21} \\hat{a}_{21}^s) - (a_{21}^s t_{21}^s)\\\\\n",
    "-(a_{21}^d t_{21}^d) + (a_{21}^d d_{21} s_{12} a_{12}^s) - (a_{21}^s t_{21}^s) & -(a_{22}^d t_{22}^d) + (a_{22}^d d_{22} s_{22} a_{22}^s) - (a_{22}^s t_{22}^s)\n",
    "\\end{bmatrix}.\n",
    "$$ {#eq-iioutcomes}\n",
    "\n",
    "@eq-iioutcomes underscores the strategic uncertainty about firm $2$'s demand and supply and also about their actions, since firm $1$ does not know firm $2$'s budget constraints, consumption or supply form or any other information except the importance of the actual payoff to determine a higher chance of a transaction occuring. \n",
    "\n",
    "Adapting @eq-firmlevelpayoff to a scenario where firm $i$ calculates expected payoffs,\n",
    "\n",
    "$$\n",
    "\\mathbb{E}[p_i] = a_{ii}^d (d_{ii} s_{ii} a_{ii}^s - t_{ii}^d) + a_{ii}^s (a_{ii}^d d_{ii} s_{ii} - t_{ii}^s) + \\sum_{j \\in \\{1, \\dots, N\\}\\setminus \\{i\\}} a_{ij}^d (d_{ij} \\hat{s}_{ji} \\hat{a}_{ji}^s - t_{ij}^d) + a_{ij}^s (\\hat{a}_{ji}^d \\hat{d}_{ji} s_{ij} - t_{ij}^s)\n",
    "$$ {#eq-iifirmlevelpayoff}\n",
    "\n",
    "where the first term correspond to the own actions and (self-)transaction values and the second term includes payoffs on which firm $i$ is uncertain. Going forward, to simplify notation collect the first term in $p_{ii} = a_{ii}^d (d_{ii} s_{ii} a_{ii}^s - t_{ii}^d) + a_{ii}^s (a_{ii}^d d_{ii} s_{ii} - t_{ii}^s)$. To be clear, the decision to demand and supply own transactions is jointly determined along with all other alternatives, which are uncertain. So the \"known\" terms here must be read as being conditional on the received signals $\\hat{D}, \\hat{S}$.\n",
    "\n",
    "Given these monotone dependencies and the uncertainty about the consumption function shape for other firms, each firm defines a threshold strategy to decide $a_{i}^d, a_{i}^s$, subject to their own constraints. This threshold, which is specific to each firm' demand and supply relationships, already incorporates any constraints at the firm-level (such as budget limits or technological envelope). Importantly, the threshold strategy also applies for own $i$-to-$i$ relationships, since they might also be constrained generically even if the information for these particular matches is complete, or because of the influence of other, estimated, relationships. The bilateral actions taken by firm $i$ will be defined by a pair of thresholds $d_{i}^*, s_{i}^*$. Specifically, \n",
    "\n",
    "$$\n",
    "\\begin{split}\n",
    "a_{ij}^d = \\mathbb{1}[\\tilde{d}_{ij} \\geq d_{i}^*] \\\\\n",
    "a_{ij}^s = \\mathbb{1}[\\tilde{s}_{ij} \\geq s_{i}^*],\n",
    "\\end{split}\n",
    "$$ {#eq-thresholds}\n",
    "\n",
    "with these thresholds representing the point of indifference for firms. Putting together all these elements, the optimal thresholds would then each equate the expected payoffs with the action costs, as in:\n",
    "\n",
    "$$\n",
    "\\begin{split}\n",
    "\\mathbb{E}[\\hat{p}_{ij} \\text{Pr}(s_{ji} \\geq \\hat{s}_{ji}) &| \\hat{d}_{i}^*] = t_{ij}^d \\\\\n",
    "\\mathbb{E}[\\hat{p}_{ij} \\text{Pr}(d_{ij} \\geq \\hat{d}_{ij}) &| \\hat{s}_{j}^*] = t_{ij}^s.\n",
    "\\end{split}\n",
    "$$ {#eq-indif}\n",
    "\n",
    "The left-hand side of both indifference equations comes from the assumption held by each firm that all other firms would use threshold strategies. Collect the individual thresholds into vectors of firm-level demand and supply thresholds, named $\\mathbf{d}^*$ and $\\mathbf{s}^*$ respectively. @def-optmthresh offers more details on these objects.\n",
    "\n",
    "::: {#def-optmthresh}\n",
    "\n",
    "## Optimal threshold vectors\n",
    "\n",
    "Given demand and supply signals $\\hat{D}$ and $\\hat{S}$ and their precisions $\\tau = \\bigcup_{Z \\in \\{\\hat{D}, \\hat{S}\\}} (\\tau_{ij}(Z))_{i=1, j=1}^N$, there are vectors of optimal thresholds for each of demand and supply, respectively, $\\mathbf{d}^* = (d_i^*(\\hat{D}, \\hat{S}, \\tau))_{i=1}^N \\in [0, 1]^N$ and $\\mathbf{s}^* = (s_i^*(\\hat{D}, \\hat{S}, \\tau))_{i=1}^N \\in [0, 1]^N$. Each firm $i$ uses the threshold $d_i^*$ to evaluate all the possibilities for demand and for supply matching, after they have been transformed into the $[0, 1]$ domain by the softmax function in @eq-softmaxrow and @eq-softmaxcol. Each pair $(d_i^*, s_i^*)$ optimises firm $i$'s expected payoff $\\sum_{j=1}^N p_(ij)$ subject to its constraints.\n",
    "\n",
    "*Remark 1.* Higher thresholds for firm $i$ make it less likely that $i$ will coordinate.\n",
    "\n",
    "*Remark 2.* For firm $i$, $d_i^*$ is not necessarily equal to $s_i^*$, but they can be co-determined within each firm. For example, a supermarket firm (which has a low cost of supplying to a broad base of potential clients, and expectats that many clients would correspond with their demand to its assortiment of products) has a low supply threshold $s_i^*$, but it also must have a low $d_i^*$ lest it would only purchase very specific goods, which would not be fitting for a supermarket.\n",
    "\n",
    "*Remark 3.* For brevity, the term in parenthesis indicating a dependence on the demand and supply signals and and on the signal precision might be ommited but it should always be understood that these vectors are defined with the complete $\\hat{D}$ and $\\hat{S}$ matrices.\n",
    "\n",
    "*Example 1.* @eq-thresholds demonstrates the use of the optimal threshold in the $N=2$ example.\n",
    "\n",
    "*Example 2.* Suppose $\\mathbf{d}^{*} = \\mathbf{s}^{*} = (0)_{N}*$, ie, both demand and supply thresholds are 0 for all firms. In this case, all firms would act on their supply and demand, and form connections whenever these match an opposing action by counterparty. The possibility of equality as opposed to strict inequality (see again @eq-thresholds) would make firms always act even in cases where their original demand (or supply) preferences were $0$.\n",
    "\n",
    "*Example 3.* Conversely, if $\\mathbf{d}^* = \\mathbf{s}^* = (1)_N*$, ie, both demand and supply thresholds are 1 for all firms, then no firm would act on their demand or supply, except when these are all concentrated in a single bilateral relationship.[^posit]\n",
    "\n",
    "[^posit]: I posit informally (but will not further prove or discuss) that such a situation would make the economy degenerate to autarky, since it would lead all firms to place all demand and supply efforts only on themselves expecting other firms to do the same.\n",
    "\n",
    ":::"
   ]
  },
  {
   "cell_type": "markdown",
   "metadata": {},
   "source": [
    "## Coordination as a monotone supermodular game\n",
    "\n",
    "Now that the optimal thresholds are defined and this coordination stage has all the building blocks, it is important to show that the present model is a monotone supermodular games (as in @van2007monotone) and then use this fact to present a theorem defining the equilibrium for the model so far (with exogenous information precision profiles). Supermodular games, introduced by @topkis1979equilibrium and further studied by @milgrom1990rationalizability, various papers by Vives are classes of games that rely on monotonicity properties and on the existence of strategic complementarities to find equilibria.[^supermreview]\n",
    "\n",
    "[^supermreview]: @amir2005supermodularity, @vives2005complementarities, @vives2007supermodularity and @vives2024strategic are useful surveys of this literature.\n",
    "\n",
    "\n",
    "One specific challenge is to show that the high-dimensional, non-linear environment does not interfere with the monotonicity requirement. ..... In contrast, @morris2016common offer solutions for classes of models that do not respect monotonicity in types.\n",
    "\n",
    "Based on this connection, @thm-optmthresh establishes their existence and uniqueness.\n",
    "\n",
    "::: {#thm-optmthresh}\n",
    "\n",
    "## Existence and uniqueness of optimal thresholds\n",
    "\n",
    "There exists precision configurations $\\tau^*$ for which a unique Bayesian Nash equilibrium surviving iterated deletion of strictly dominated strategies exist, with firms using thresholds $\\mathbf{d}^*(\\tau_{ij}(\\hat{D}, \\hat{S}))$ and $\\mathbf{s}^*(\\tau_{ij}(\\hat{D}, \\hat{S}))$ to decide on bilateral actions.\n",
    "\n",
    ":::\n",
    "\n",
    "::: {.proof}\n",
    "(Under construction) This proof is based on showing that the game is a monotone supermodular game, as in @van2007monotone, and use that result to show there is an equilibrium (see definitions @def-supermodular and @def-monsupermodular in the Annex). From Example 2.6.2(a) in @topkis1998supermodularity, the supermodularity of the payoff $\\pi_i$ on own actions $a_{ij}^{z \\in \\{d, s\\}}$ comes from the fact that it is a totally ordered set. The supermodularity (increasing differences) on other firms' actions is demonstrated below. Writing $\\pi_i((a_i^d, a_i^s),(a_{-i}^d, a_{-i}^s), \\theta)$ to represent $i$'s payoff when it takes actions $a_i^d, a_i^s$, other players take actions $a_{-i}^d, a_{-i}^s$ and the demand and supply shocks are summarised in $\\theta$, then strategic complementarity in others' actions entails $\\pi_i((1,1), (0,0), \\theta) - \\pi_i((0,0), (0,0), \\theta) \\leq \\pi_i((1,1), (1,1), \\theta) - \\pi_i((0,0), (1,1), \\theta)$:\n",
    "\n",
    "$$\n",
    "\\sum_{j=1}^N -t_{ij}^d -t_{ij}^s \\leq \\sum_{j=1}^N \\theta_{ij} + \\theta_{ji} - t_{ij}^d - t_{ij}^s,\n",
    "$$\n",
    "\n",
    "since all elements of $\\theta$ are non-negative.\n",
    "\n",
    "The same argument holds for each of the demand and supply actions separately, also when crossed with counterparties' supply or demand actions.\n",
    ":::\n",
    "\n",
    "@thm-optmthresh establishes that the firms in the economy reach an equilibrium.\n",
    "\n",
    "\n",
    "[^noise]: Traditionally, games of incomplete information such as global games (@carlsson1993global, @morris2003global, @frankel2003equilibrium) model an additive noise strucutre, but for analytical convenience. This device continues to be used (@szkup2020sentiments), but the literature also records other, more flexible forms of perturbation (eg, @yang2015coordination)."
   ]
  },
  {
   "cell_type": "markdown",
   "metadata": {},
   "source": [
    "## Interpretation {#sec-interpretation}\n",
    "\n",
    "### Types of agents\n",
    "\n",
    "The economic agents, described above as \"firms\", but this description is more general. Let $x_i$ be a vector of characteristics of each $i$, which do not have to be unique, then one element of the vector $x_i$ can represent the industry or the location of $i$. This would already allow the construction of metrics of interest to applications that focus on certain subsets of firms, for example. One interesting application could be for example to set that firms whose characteristic vector include them in the \"retail\" sector would tend to try to match a much broader subset of agents then specialised firms in high-end supply chains, which usually have only a few clients.\n",
    "\n",
    "In fact, the entities can be more generally taken to be both firms and natural persons; even one or more government entities could be economic agents. As long as $x_i$ contains enough information to differentiate them, it is possible to pool together all sorts of economic agents in this economy if the theoretical or empirical application so requires. Of course, constraints (and interpretation) would need to be well-thought if the space of individuals encompasses such rich representations. For example, if some $i$ are natural persons, then a reasonable constraint to impose of them that most firms will not have is that they will \"sell\" their product (labour) to only one firm. Or, for those $i$ that are government entities, the product that they \"sell\" are certificates of paid taxes (naturally, against proceeds that are interpreted as tax) while their purchases are the government expenditures.\n",
    "\n",
    "### Within-agent interaction\n",
    "\n",
    "An agent might prefer to demand its own product (think of Apple employees using Macbooks and iPhones) and also might prefer to sell to itself: for example, if demand for a product is weak it might end up building up stock.\n",
    "\n",
    "### State of the economy\n",
    "\n",
    "Similar to @angeletos2016incomplete (see section 3.1), in this model the state of the economy is seen as the distribution of actions throughout the economy. However, with this model it is possible to go one step further and construct different subsets and aggregations of the economy. For example, the complete economy payoff is $\\sum_{i=1}^N \\sum_{j=1}^N p_{ij}$, while wages are $\\sum_{i=1}^N \\sum_{j \\in \\{\\text{Natural persons}\\}} p_{ij}$. Labour productivity is given by $\\sum_{i=1}^N \\sum_{j=1}^N p_{ij} / \\sum_{i=1}^N \\sum_{j \\in \\{\\text{Natural persons}\\}} J_{ij}$, while cost efficiency of the economy is $\\sum_{z \\in \\{D, S\\}}\\sum_{i=1}^N \\sum_{j=1}^N t_{ij}^z a_{ij}^z$. Firm failures result from counting all the firms for whom the net payoff is negative. \n",
    "\n",
    "### Frictions\n",
    "\n",
    "In this model, output gaps are explained by lack of coordination from incomplete information. A similar friction was introduced by @diamond1982aggregate, who add trade (or more generally, search) frictions in settings where multiple people must transact simultaneously and there is no Walrasian auctioneer to ensure the market clears frictionless. But in contrast to that paper, the frictions in the current model all come from the necessity of anticipating the demand and supply of other agents.\n"
   ]
  },
  {
   "cell_type": "raw",
   "metadata": {},
   "source": [
    "## Endogenous information acquisition\n",
    "\n",
    "This section now expands the theme from the previous one, incorporating a prior stage where all firms are able to negotiate with firms that sell information technology. The possibility that firms endogenously choose the level of information to address the strategic uncertainty has been shown to change equilibrium selection both in theory and in experimental settings. For example, @szkup_trevino_2024 find that agents tend to select themselves more by the amount of information acquired than by the investment decisions at a coordination phase, compared to the same model but with exogenous information precision (@szkup2020sentiments).\n",
    "\n",
    "The literature on endogenous information acquisition is vast (see for example @AMIR2016684, @colombo2014information, @szkup2015information, @yang2015coordination and others). In a beauty-contest setting, @myatt2012endogenous study allocation of attention to information and find that the degree of strategic complementarity is negatively related to the number of signals watched by individuals, who rely increasingly in a public signal. @szkup_trevino_2024 find that players subjectively select different levels of information, beyond rationalisable choiced. \n",
    "\n",
    "Particularly important results in endogenous information aquisition are due to @colombo2014information.\n",
    "\n",
    "An important application of endogenous information aquisition is the study of breakthrough improvements in information processing technology, in particular more recently the role of AI in coordination amongst agents. In fact, related papers show that firm investment in AI is heterogenous and has wide-ranging implications for the firm. For example, firms investing more in AI usage tend to reshape their labour composition and organisation (@babina2023firm), indicating the firm is positioning itself to better serve existing markets (concentrating more their $s_j$ to better match latent demand $d_{ij}$) or to acquire new, underserved markets, as reinforced by empirical evidence (@babina2024artificial). After discussing how the present model changes in response to endogenous information aquisition, this paper uses these results to elaborate on the influence of AI on the economy in @sec-AI."
   ]
  },
  {
   "cell_type": "markdown",
   "metadata": {},
   "source": [
    "# Fundamental and strategic demand and supply shocks\n",
    "\n",
    "Modelling the economy directly from agent-level demand and supply drivers and the incomplete information towards other agents' drivers and actions cutoffs yields the useful property that each of demand or supply shocks can be broken down into (a) a fundamental-driven component and (b) a portion that responds to strategic uncertainty. This distinction is an important addition to the traditional demand-supply breakdown in macroeconomics, especially when informational aspects can matter for aggregate outcomes.\n",
    "\n",
    "Consider again each element of the demand and supply matrices in @eq-tildeDS; call $Z \\in \\{D, S\\}$ and $z_{ij}$ each of the matrices and their elements. $$\n"
   ]
  },
  {
   "cell_type": "markdown",
   "metadata": {},
   "source": [
    "# Application: effects of artificial intelligence {#sec-AI}\n",
    "\n",
    "This model allows the simultaneous study of different channels by which AI might impact macroeconomic outcomes, including whether they interact with each other. These are:\n",
    "\n",
    "- **Improving the precision of economic signals.** $\\tau_{ij}$\n",
    "\n",
    "- **Increasing product innovation.**\n",
    "\n",
    "- **Improving productivty, or lowering the costs associated with demanding or supplying specific products.** $T^d, T^s$ Allows a greater number of bilateral relationships to take place. Studied by @aldasoro2024impact, who consolidate sector-specific productivity gains to estimate the total macroeconomic effect.\n",
    "\n",
    "- **Increasing labour automation.** This case requires the inclusion of agents that span both firms and natural persons. Studied by @eloundou2024gpts.\n"
   ]
  },
  {
   "cell_type": "markdown",
   "metadata": {},
   "source": [
    "## AI improving signal precision"
   ]
  },
  {
   "cell_type": "markdown",
   "metadata": {},
   "source": [
    "## AI increases product innovation\n",
    "\n",
    "@babina2024artificial show that greater investment in AI leads to enhanced product innovation in firms. They find that this effect leads to boosted growth, contributing to concentration and to the growth of superstar firms."
   ]
  },
  {
   "cell_type": "markdown",
   "metadata": {},
   "source": [
    "## AI lowering costs\n",
    "\n",
    "The costs incurred by firm $i$ to demand goods are broken down as $t_{ij}^d = t_0 + t_i + \\omega_{ij} \\geq 0$, with a similar definition for supply cost considerations."
   ]
  },
  {
   "cell_type": "markdown",
   "metadata": {},
   "source": [
    "## AI increasing labour automation"
   ]
  },
  {
   "cell_type": "markdown",
   "metadata": {},
   "source": [
    "# Implications for policy\n",
    "\n",
    "These findings suggest two main policy implications: access to AI technology at the edge (or sufficiently close) must be as wide as possible.[^climext] \n",
    "\n",
    "A second policy implication is that concentration of closed-sourced AI models is not necessarily detrimental for societal welfare if open model availability has a similar level of performance.\n",
    "\n",
    "[^climext]: However, this policy implication does not consider the significant and meaningful role of energy usage and other climate-related externalities related to training and deployment of advanced AI."
   ]
  },
  {
   "cell_type": "markdown",
   "metadata": {},
   "source": [
    "# (Tentative) conclusions\n",
    "The direct use of lattice-theoretical tools in macroeconomics has a rich tradition even if it does not currently inform mainstream models. But as the focus of policymakers shifts from representative agents to understanding heterogeneity and microfounding models, and especially as the way agents acquire and process their information sets to interact with other agents under strategic complementarity settings, supermodular game analysis might offer insights in macroeconomics as it has in industrial organisation, microeconomics and other fields (@amir2005supermodularity, @amir2018supermodularity). Supermodular analysis is based on the intutive insight that if an objective function to be maximised reacts in a complementary way between its endogenous and exogenous inputs, then the optimal value of the endogenous variables increases with the exogenous values. The fact that these methods dispense with seemingly superfluous assumptions eg on functional form of utility functions and instead rely on monotonicity constraints further lends it flexibility even for non-linear analysis. \n",
    "\n",
    "As for compatitive statics related to AI, AI is a palpable transformation to information processing and use, promising deep changes even in the societal structure. Even before the current wave of public awareness after the release of ChatGPT in November 2022, @korinek2018artificial pointed to the potential effects of AI on the economy as a whole.\n",
    "\n",
    "But for all its importance, AI is not the only information-relevant transformation. Over the last decades, innovations such as the long-distance telephone, internet, and early machine learning models all have increased the capabilities of transforming information. And in the other direction, greater awareness and effective privacy at the consumer level has driven significant economic impacts (@doerr2023privacy, @aridor2024privacy). A flexible model is needed to study these wide-ranging transformation."
   ]
  },
  {
   "cell_type": "markdown",
   "metadata": {
    "vscode": {
     "languageId": "python"
    }
   },
   "source": [
    "# References\n",
    "\n",
    "::: {#refs}\n",
    "\n",
    ":::"
   ]
  },
  {
   "cell_type": "markdown",
   "metadata": {},
   "source": [
    "\\newpage"
   ]
  },
  {
   "cell_type": "markdown",
   "metadata": {},
   "source": [
    "# Appendix: basic definitions on supermodular games {.unnumbered}"
   ]
  },
  {
   "cell_type": "markdown",
   "metadata": {},
   "source": [
    "This appendix contains mathematical definitions that are helpful to support the equilibrium analyses, but that might not be of interest to all readers. It starts by defining lattice-theoretical objects and then describes the supermodular games. It then restates a useful fixed point theorem on lattices that is the basis of equilibria search in many applications. \n",
    "\n",
    "A key result underlying the usefulness of supermodular games is due to @milgrom1990rationalizability, who show (in their Theorem 5) that the set of strategy profiles surviving iterated deletion of strongly dominated strategies has a maximum and a minimum element, and both are Nash equilibria."
   ]
  },
  {
   "cell_type": "markdown",
   "metadata": {},
   "source": [
    "::: {#def-lattice}\n",
    "\n",
    "## Lattice\n",
    "\n",
    "...\n",
    "\n",
    ":::"
   ]
  },
  {
   "cell_type": "markdown",
   "metadata": {},
   "source": [
    "::: {#thm-fixedpoint}\n",
    "\n",
    "## @tarski1955lattice fix point\n",
    "\n",
    "...\n",
    "\n",
    ":::"
   ]
  },
  {
   "cell_type": "markdown",
   "metadata": {},
   "source": [
    "::: {#def-supermodular}\n",
    "\n",
    "## Supermodular games (@vives2007supermodularity)\n",
    "\n",
    "Let players $i= 1, \\dots, N$ each have an action set $A_i \\in A$, with the actual action taken by $i$ denoted as $a_i \\in A$ and by all the other players, $a_{-i}$. $A_i$ have the property of component-wise order. The payoffs of each player are a continuous mapping $\\pi_i : A^N \\to \\mathbb{R}$. A game $G = (i, A_i, p_i)$ is supermodular if:\n",
    "\n",
    "1. $\\pi_i$ is supermodular in $a_i$ for fixed $a_{-i}$, and\n",
    "\n",
    "2. $\\pi_i$ displays increasing differences in $(a_i, a_{-i})$.\n",
    "\n",
    "*Remark 1.* Due to the strategic complementarities, the best responses in a supermodular game are monotone increasing, regardless of whether $\\pi_i$ is quasiconcave in $a_i$.\n",
    ":::"
   ]
  },
  {
   "cell_type": "markdown",
   "metadata": {},
   "source": [
    "::: {#def-monsupermodular}\n",
    "\n",
    "## Monotone supermodular games (@van2007monotone)\n",
    "\n",
    "In addition to the criteria in @def-supermodular, monotone supermodular games assume that each player's interim beliefs $p_i : T_i \\to M_{-i}$ representing $i$'s set of probability measures of the other players' types are increasing in first-order stochastic dominance. \n",
    "\n",
    "*Remark 1.* If these criteria are met, the game has a greatest and a least pure strategy Bayesian Nash equilibria.\n",
    "\n",
    "*Remark 2.* A first-order shift in the interim beliefs leads to increases in these greatest and least equilibria.\n",
    ":::"
   ]
  },
  {
   "cell_type": "markdown",
   "metadata": {},
   "source": [
    "::: {#def-BNE}\n",
    "\n",
    "## Bayesian Nash equilibrium (BNE)\n",
    "\n",
    "A BNE is a strategy profile such that each player $i$ and their type $\\theta_i$ chooses a best response to the strategy profile of other players. \n",
    "\n",
    ":::\n",
    "\n"
   ]
  }
 ],
 "metadata": {
  "kernelspec": {
   "display_name": "Python 3.10.2 ('.venv_gingado': venv)",
   "language": "python",
   "name": "python3"
  },
  "language_info": {
   "codemirror_mode": {
    "name": "ipython",
    "version": 3
   },
   "file_extension": ".py",
   "mimetype": "text/x-python",
   "name": "python",
   "nbconvert_exporter": "python",
   "pygments_lexer": "ipython3",
   "version": "3.10.2"
  },
  "orig_nbformat": 4,
  "vscode": {
   "interpreter": {
    "hash": "977c2d9435ad3a481cf1bbece8d5ecb19e078de55648a0a0bad32b79c2e18340"
   }
  }
 },
 "nbformat": 4,
 "nbformat_minor": 2
}
